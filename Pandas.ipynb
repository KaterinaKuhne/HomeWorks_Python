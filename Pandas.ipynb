{
 "cells": [
  {
   "cell_type": "markdown",
   "id": "e83cb673",
   "metadata": {},
   "source": [
    "## 1. Загрузка данных и начальная информация о датафреймах"
   ]
  },
  {
   "cell_type": "code",
   "execution_count": 1,
   "id": "ca1a21a4",
   "metadata": {},
   "outputs": [
    {
     "data": {
      "text/html": [
       "<div>\n",
       "<style scoped>\n",
       "    .dataframe tbody tr th:only-of-type {\n",
       "        vertical-align: middle;\n",
       "    }\n",
       "\n",
       "    .dataframe tbody tr th {\n",
       "        vertical-align: top;\n",
       "    }\n",
       "\n",
       "    .dataframe thead th {\n",
       "        text-align: right;\n",
       "    }\n",
       "</style>\n",
       "<table border=\"1\" class=\"dataframe\">\n",
       "  <thead>\n",
       "    <tr style=\"text-align: right;\">\n",
       "      <th></th>\n",
       "      <th>row_id</th>\n",
       "      <th>timestamp</th>\n",
       "      <th>user_id</th>\n",
       "      <th>content_id</th>\n",
       "      <th>content_type_id</th>\n",
       "      <th>task_container_id</th>\n",
       "      <th>user_answer</th>\n",
       "      <th>answered_correctly</th>\n",
       "      <th>prior_question_elapsed_time</th>\n",
       "      <th>prior_question_had_explanation</th>\n",
       "    </tr>\n",
       "  </thead>\n",
       "  <tbody>\n",
       "    <tr>\n",
       "      <th>0</th>\n",
       "      <td>0</td>\n",
       "      <td>0</td>\n",
       "      <td>115</td>\n",
       "      <td>5692</td>\n",
       "      <td>0</td>\n",
       "      <td>1</td>\n",
       "      <td>3</td>\n",
       "      <td>1</td>\n",
       "      <td>NaN</td>\n",
       "      <td>NaN</td>\n",
       "    </tr>\n",
       "    <tr>\n",
       "      <th>1</th>\n",
       "      <td>1</td>\n",
       "      <td>56943</td>\n",
       "      <td>115</td>\n",
       "      <td>5716</td>\n",
       "      <td>0</td>\n",
       "      <td>2</td>\n",
       "      <td>2</td>\n",
       "      <td>1</td>\n",
       "      <td>37000.0</td>\n",
       "      <td>False</td>\n",
       "    </tr>\n",
       "    <tr>\n",
       "      <th>2</th>\n",
       "      <td>2</td>\n",
       "      <td>118363</td>\n",
       "      <td>115</td>\n",
       "      <td>128</td>\n",
       "      <td>0</td>\n",
       "      <td>0</td>\n",
       "      <td>0</td>\n",
       "      <td>1</td>\n",
       "      <td>55000.0</td>\n",
       "      <td>False</td>\n",
       "    </tr>\n",
       "    <tr>\n",
       "      <th>3</th>\n",
       "      <td>3</td>\n",
       "      <td>131167</td>\n",
       "      <td>115</td>\n",
       "      <td>7860</td>\n",
       "      <td>0</td>\n",
       "      <td>3</td>\n",
       "      <td>0</td>\n",
       "      <td>1</td>\n",
       "      <td>19000.0</td>\n",
       "      <td>False</td>\n",
       "    </tr>\n",
       "    <tr>\n",
       "      <th>4</th>\n",
       "      <td>4</td>\n",
       "      <td>137965</td>\n",
       "      <td>115</td>\n",
       "      <td>7922</td>\n",
       "      <td>0</td>\n",
       "      <td>4</td>\n",
       "      <td>1</td>\n",
       "      <td>1</td>\n",
       "      <td>11000.0</td>\n",
       "      <td>False</td>\n",
       "    </tr>\n",
       "  </tbody>\n",
       "</table>\n",
       "</div>"
      ],
      "text/plain": [
       "   row_id  timestamp  user_id  content_id  content_type_id  task_container_id  \\\n",
       "0       0          0      115        5692                0                  1   \n",
       "1       1      56943      115        5716                0                  2   \n",
       "2       2     118363      115         128                0                  0   \n",
       "3       3     131167      115        7860                0                  3   \n",
       "4       4     137965      115        7922                0                  4   \n",
       "\n",
       "   user_answer  answered_correctly  prior_question_elapsed_time  \\\n",
       "0            3                   1                          NaN   \n",
       "1            2                   1                      37000.0   \n",
       "2            0                   1                      55000.0   \n",
       "3            0                   1                      19000.0   \n",
       "4            1                   1                      11000.0   \n",
       "\n",
       "  prior_question_had_explanation  \n",
       "0                            NaN  \n",
       "1                          False  \n",
       "2                          False  \n",
       "3                          False  \n",
       "4                          False  "
      ]
     },
     "execution_count": 1,
     "metadata": {},
     "output_type": "execute_result"
    }
   ],
   "source": [
    "import pandas as pd\n",
    "\n",
    "# Загрузка данных\n",
    "train_df = pd.read_csv('/Users/katerinakuhne/Documents/МАГА МФТИ/Python/Pandas/train.csv') \n",
    "# Смотрим на 5 первых строк\n",
    "train_df.head()"
   ]
  },
  {
   "cell_type": "code",
   "execution_count": 2,
   "id": "8d48d79d",
   "metadata": {},
   "outputs": [
    {
     "data": {
      "text/html": [
       "<div>\n",
       "<style scoped>\n",
       "    .dataframe tbody tr th:only-of-type {\n",
       "        vertical-align: middle;\n",
       "    }\n",
       "\n",
       "    .dataframe tbody tr th {\n",
       "        vertical-align: top;\n",
       "    }\n",
       "\n",
       "    .dataframe thead th {\n",
       "        text-align: right;\n",
       "    }\n",
       "</style>\n",
       "<table border=\"1\" class=\"dataframe\">\n",
       "  <thead>\n",
       "    <tr style=\"text-align: right;\">\n",
       "      <th></th>\n",
       "      <th>row_id</th>\n",
       "      <th>timestamp</th>\n",
       "      <th>user_id</th>\n",
       "      <th>content_id</th>\n",
       "      <th>content_type_id</th>\n",
       "      <th>task_container_id</th>\n",
       "      <th>user_answer</th>\n",
       "      <th>answered_correctly</th>\n",
       "      <th>prior_question_elapsed_time</th>\n",
       "      <th>prior_question_had_explanation</th>\n",
       "    </tr>\n",
       "  </thead>\n",
       "  <tbody>\n",
       "    <tr>\n",
       "      <th>101230327</th>\n",
       "      <td>101230327</td>\n",
       "      <td>428564420</td>\n",
       "      <td>2147482888</td>\n",
       "      <td>3586</td>\n",
       "      <td>0</td>\n",
       "      <td>22</td>\n",
       "      <td>0</td>\n",
       "      <td>1</td>\n",
       "      <td>18000.0</td>\n",
       "      <td>True</td>\n",
       "    </tr>\n",
       "    <tr>\n",
       "      <th>101230328</th>\n",
       "      <td>101230328</td>\n",
       "      <td>428585000</td>\n",
       "      <td>2147482888</td>\n",
       "      <td>6341</td>\n",
       "      <td>0</td>\n",
       "      <td>23</td>\n",
       "      <td>3</td>\n",
       "      <td>1</td>\n",
       "      <td>14000.0</td>\n",
       "      <td>True</td>\n",
       "    </tr>\n",
       "    <tr>\n",
       "      <th>101230329</th>\n",
       "      <td>101230329</td>\n",
       "      <td>428613475</td>\n",
       "      <td>2147482888</td>\n",
       "      <td>4212</td>\n",
       "      <td>0</td>\n",
       "      <td>24</td>\n",
       "      <td>3</td>\n",
       "      <td>1</td>\n",
       "      <td>14000.0</td>\n",
       "      <td>True</td>\n",
       "    </tr>\n",
       "    <tr>\n",
       "      <th>101230330</th>\n",
       "      <td>101230330</td>\n",
       "      <td>428649406</td>\n",
       "      <td>2147482888</td>\n",
       "      <td>6343</td>\n",
       "      <td>0</td>\n",
       "      <td>25</td>\n",
       "      <td>1</td>\n",
       "      <td>0</td>\n",
       "      <td>22000.0</td>\n",
       "      <td>True</td>\n",
       "    </tr>\n",
       "    <tr>\n",
       "      <th>101230331</th>\n",
       "      <td>101230331</td>\n",
       "      <td>428692118</td>\n",
       "      <td>2147482888</td>\n",
       "      <td>7995</td>\n",
       "      <td>0</td>\n",
       "      <td>26</td>\n",
       "      <td>3</td>\n",
       "      <td>1</td>\n",
       "      <td>29000.0</td>\n",
       "      <td>True</td>\n",
       "    </tr>\n",
       "  </tbody>\n",
       "</table>\n",
       "</div>"
      ],
      "text/plain": [
       "              row_id  timestamp     user_id  content_id  content_type_id  \\\n",
       "101230327  101230327  428564420  2147482888        3586                0   \n",
       "101230328  101230328  428585000  2147482888        6341                0   \n",
       "101230329  101230329  428613475  2147482888        4212                0   \n",
       "101230330  101230330  428649406  2147482888        6343                0   \n",
       "101230331  101230331  428692118  2147482888        7995                0   \n",
       "\n",
       "           task_container_id  user_answer  answered_correctly  \\\n",
       "101230327                 22            0                   1   \n",
       "101230328                 23            3                   1   \n",
       "101230329                 24            3                   1   \n",
       "101230330                 25            1                   0   \n",
       "101230331                 26            3                   1   \n",
       "\n",
       "           prior_question_elapsed_time prior_question_had_explanation  \n",
       "101230327                      18000.0                           True  \n",
       "101230328                      14000.0                           True  \n",
       "101230329                      14000.0                           True  \n",
       "101230330                      22000.0                           True  \n",
       "101230331                      29000.0                           True  "
      ]
     },
     "execution_count": 2,
     "metadata": {},
     "output_type": "execute_result"
    }
   ],
   "source": [
    "# Смотрим на 5 последних строк\n",
    "train_df.tail()"
   ]
  },
  {
   "cell_type": "code",
   "execution_count": 3,
   "id": "e5e5e960",
   "metadata": {},
   "outputs": [
    {
     "name": "stdout",
     "output_type": "stream",
     "text": [
      "<class 'pandas.core.frame.DataFrame'>\n",
      "RangeIndex: 101230332 entries, 0 to 101230331\n",
      "Data columns (total 10 columns):\n",
      " #   Column                          Dtype  \n",
      "---  ------                          -----  \n",
      " 0   row_id                          int64  \n",
      " 1   timestamp                       int64  \n",
      " 2   user_id                         int64  \n",
      " 3   content_id                      int64  \n",
      " 4   content_type_id                 int64  \n",
      " 5   task_container_id               int64  \n",
      " 6   user_answer                     int64  \n",
      " 7   answered_correctly              int64  \n",
      " 8   prior_question_elapsed_time     float64\n",
      " 9   prior_question_had_explanation  object \n",
      "dtypes: float64(1), int64(8), object(1)\n",
      "memory usage: 7.5+ GB\n"
     ]
    }
   ],
   "source": [
    "# Смотрим информацию о нашем df\n",
    "train_df.info()"
   ]
  },
  {
   "cell_type": "code",
   "execution_count": 4,
   "id": "e6be22e7",
   "metadata": {},
   "outputs": [
    {
     "data": {
      "text/html": [
       "<div>\n",
       "<style scoped>\n",
       "    .dataframe tbody tr th:only-of-type {\n",
       "        vertical-align: middle;\n",
       "    }\n",
       "\n",
       "    .dataframe tbody tr th {\n",
       "        vertical-align: top;\n",
       "    }\n",
       "\n",
       "    .dataframe thead th {\n",
       "        text-align: right;\n",
       "    }\n",
       "</style>\n",
       "<table border=\"1\" class=\"dataframe\">\n",
       "  <thead>\n",
       "    <tr style=\"text-align: right;\">\n",
       "      <th></th>\n",
       "      <th>row_id</th>\n",
       "      <th>timestamp</th>\n",
       "      <th>user_id</th>\n",
       "      <th>content_id</th>\n",
       "      <th>content_type_id</th>\n",
       "      <th>task_container_id</th>\n",
       "      <th>user_answer</th>\n",
       "      <th>answered_correctly</th>\n",
       "      <th>prior_question_elapsed_time</th>\n",
       "    </tr>\n",
       "  </thead>\n",
       "  <tbody>\n",
       "    <tr>\n",
       "      <th>count</th>\n",
       "      <td>1.012303e+08</td>\n",
       "      <td>1.012303e+08</td>\n",
       "      <td>1.012303e+08</td>\n",
       "      <td>1.012303e+08</td>\n",
       "      <td>1.012303e+08</td>\n",
       "      <td>1.012303e+08</td>\n",
       "      <td>1.012303e+08</td>\n",
       "      <td>1.012303e+08</td>\n",
       "      <td>9.887879e+07</td>\n",
       "    </tr>\n",
       "    <tr>\n",
       "      <th>mean</th>\n",
       "      <td>5.061517e+07</td>\n",
       "      <td>7.703644e+09</td>\n",
       "      <td>1.076732e+09</td>\n",
       "      <td>5.219605e+03</td>\n",
       "      <td>1.935222e-02</td>\n",
       "      <td>9.040624e+02</td>\n",
       "      <td>1.376123e+00</td>\n",
       "      <td>6.251644e-01</td>\n",
       "      <td>2.542381e+04</td>\n",
       "    </tr>\n",
       "    <tr>\n",
       "      <th>std</th>\n",
       "      <td>2.922268e+07</td>\n",
       "      <td>1.159266e+10</td>\n",
       "      <td>6.197163e+08</td>\n",
       "      <td>3.866359e+03</td>\n",
       "      <td>1.377596e-01</td>\n",
       "      <td>1.358302e+03</td>\n",
       "      <td>1.192896e+00</td>\n",
       "      <td>5.225307e-01</td>\n",
       "      <td>1.994815e+04</td>\n",
       "    </tr>\n",
       "    <tr>\n",
       "      <th>min</th>\n",
       "      <td>0.000000e+00</td>\n",
       "      <td>0.000000e+00</td>\n",
       "      <td>1.150000e+02</td>\n",
       "      <td>0.000000e+00</td>\n",
       "      <td>0.000000e+00</td>\n",
       "      <td>0.000000e+00</td>\n",
       "      <td>-1.000000e+00</td>\n",
       "      <td>-1.000000e+00</td>\n",
       "      <td>0.000000e+00</td>\n",
       "    </tr>\n",
       "    <tr>\n",
       "      <th>25%</th>\n",
       "      <td>2.530758e+07</td>\n",
       "      <td>5.243436e+08</td>\n",
       "      <td>5.408116e+08</td>\n",
       "      <td>2.063000e+03</td>\n",
       "      <td>0.000000e+00</td>\n",
       "      <td>1.040000e+02</td>\n",
       "      <td>0.000000e+00</td>\n",
       "      <td>0.000000e+00</td>\n",
       "      <td>1.600000e+04</td>\n",
       "    </tr>\n",
       "    <tr>\n",
       "      <th>50%</th>\n",
       "      <td>5.061517e+07</td>\n",
       "      <td>2.674234e+09</td>\n",
       "      <td>1.071781e+09</td>\n",
       "      <td>5.026000e+03</td>\n",
       "      <td>0.000000e+00</td>\n",
       "      <td>3.820000e+02</td>\n",
       "      <td>1.000000e+00</td>\n",
       "      <td>1.000000e+00</td>\n",
       "      <td>2.100000e+04</td>\n",
       "    </tr>\n",
       "    <tr>\n",
       "      <th>75%</th>\n",
       "      <td>7.592275e+07</td>\n",
       "      <td>9.924551e+09</td>\n",
       "      <td>1.615742e+09</td>\n",
       "      <td>7.425000e+03</td>\n",
       "      <td>0.000000e+00</td>\n",
       "      <td>1.094000e+03</td>\n",
       "      <td>3.000000e+00</td>\n",
       "      <td>1.000000e+00</td>\n",
       "      <td>2.966600e+04</td>\n",
       "    </tr>\n",
       "    <tr>\n",
       "      <th>max</th>\n",
       "      <td>1.012303e+08</td>\n",
       "      <td>8.742577e+10</td>\n",
       "      <td>2.147483e+09</td>\n",
       "      <td>3.273600e+04</td>\n",
       "      <td>1.000000e+00</td>\n",
       "      <td>9.999000e+03</td>\n",
       "      <td>3.000000e+00</td>\n",
       "      <td>1.000000e+00</td>\n",
       "      <td>3.000000e+05</td>\n",
       "    </tr>\n",
       "  </tbody>\n",
       "</table>\n",
       "</div>"
      ],
      "text/plain": [
       "             row_id     timestamp       user_id    content_id  \\\n",
       "count  1.012303e+08  1.012303e+08  1.012303e+08  1.012303e+08   \n",
       "mean   5.061517e+07  7.703644e+09  1.076732e+09  5.219605e+03   \n",
       "std    2.922268e+07  1.159266e+10  6.197163e+08  3.866359e+03   \n",
       "min    0.000000e+00  0.000000e+00  1.150000e+02  0.000000e+00   \n",
       "25%    2.530758e+07  5.243436e+08  5.408116e+08  2.063000e+03   \n",
       "50%    5.061517e+07  2.674234e+09  1.071781e+09  5.026000e+03   \n",
       "75%    7.592275e+07  9.924551e+09  1.615742e+09  7.425000e+03   \n",
       "max    1.012303e+08  8.742577e+10  2.147483e+09  3.273600e+04   \n",
       "\n",
       "       content_type_id  task_container_id   user_answer  answered_correctly  \\\n",
       "count     1.012303e+08       1.012303e+08  1.012303e+08        1.012303e+08   \n",
       "mean      1.935222e-02       9.040624e+02  1.376123e+00        6.251644e-01   \n",
       "std       1.377596e-01       1.358302e+03  1.192896e+00        5.225307e-01   \n",
       "min       0.000000e+00       0.000000e+00 -1.000000e+00       -1.000000e+00   \n",
       "25%       0.000000e+00       1.040000e+02  0.000000e+00        0.000000e+00   \n",
       "50%       0.000000e+00       3.820000e+02  1.000000e+00        1.000000e+00   \n",
       "75%       0.000000e+00       1.094000e+03  3.000000e+00        1.000000e+00   \n",
       "max       1.000000e+00       9.999000e+03  3.000000e+00        1.000000e+00   \n",
       "\n",
       "       prior_question_elapsed_time  \n",
       "count                 9.887879e+07  \n",
       "mean                  2.542381e+04  \n",
       "std                   1.994815e+04  \n",
       "min                   0.000000e+00  \n",
       "25%                   1.600000e+04  \n",
       "50%                   2.100000e+04  \n",
       "75%                   2.966600e+04  \n",
       "max                   3.000000e+05  "
      ]
     },
     "execution_count": 4,
     "metadata": {},
     "output_type": "execute_result"
    }
   ],
   "source": [
    "train_df.describe()"
   ]
  },
  {
   "cell_type": "markdown",
   "id": "9f563557",
   "metadata": {},
   "source": [
    "## 2. Приведение данных к другим типам (чтобы уменьшить размер датафреймов) и удаление колонок, дублирующих данные. "
   ]
  },
  {
   "cell_type": "code",
   "execution_count": 5,
   "id": "78f405e6",
   "metadata": {},
   "outputs": [
    {
     "name": "stdout",
     "output_type": "stream",
     "text": [
      "[0 1]\n",
      "<class 'pandas.core.frame.DataFrame'>\n",
      "RangeIndex: 101230332 entries, 0 to 101230331\n",
      "Data columns (total 10 columns):\n",
      " #   Column                          Dtype  \n",
      "---  ------                          -----  \n",
      " 0   row_id                          int64  \n",
      " 1   timestamp                       int64  \n",
      " 2   user_id                         int64  \n",
      " 3   content_id                      int64  \n",
      " 4   content_type_id                 int8   \n",
      " 5   task_container_id               int64  \n",
      " 6   user_answer                     int64  \n",
      " 7   answered_correctly              int64  \n",
      " 8   prior_question_elapsed_time     float64\n",
      " 9   prior_question_had_explanation  object \n",
      "dtypes: float64(1), int64(7), int8(1), object(1)\n",
      "memory usage: 6.9+ GB\n"
     ]
    }
   ],
   "source": [
    "#df тяжелый, но тип данных всех числовых признаков uint64, чтобы он стал легче и с ним проще стало работать изменим тип данных для некоторых колонок \n",
    "#проверим какие значения принимает content_type_id (согласно описанию 0 и 1)\n",
    "print(train_df['content_type_id'].unique())\n",
    "#content_type_id принимает значения 0 и 1, uint64 явно для него избыточен\n",
    "train_df['content_type_id'] = train_df['content_type_id'].astype('int8')\n",
    "train_df.info()"
   ]
  },
  {
   "cell_type": "code",
   "execution_count": 6,
   "id": "41d38306",
   "metadata": {},
   "outputs": [
    {
     "name": "stdout",
     "output_type": "stream",
     "text": [
      "[ 3  2  0  1 -1]\n",
      "[ 1  0 -1]\n"
     ]
    }
   ],
   "source": [
    "#сделаем тоже с некоторыми другими колонками\n",
    "print(train_df['user_answer'].unique())\n",
    "train_df['user_answer'] = train_df['user_answer'].astype('int8')\n",
    "print(train_df['answered_correctly'].unique())\n",
    "train_df['answered_correctly'] = train_df['answered_correctly'].astype('int8')"
   ]
  },
  {
   "cell_type": "code",
   "execution_count": 7,
   "id": "2a9533c3",
   "metadata": {},
   "outputs": [
    {
     "name": "stdout",
     "output_type": "stream",
     "text": [
      "9999\n",
      "101230331\n"
     ]
    }
   ],
   "source": [
    "#сделаем тоже с некоторыми другими колонками\n",
    "print(train_df['task_container_id'].max())\n",
    "train_df['task_container_id'] = train_df['task_container_id'].astype('int16')\n",
    "print(train_df['row_id'].max())\n",
    "train_df['row_id'] = train_df['row_id'].astype('int32')"
   ]
  },
  {
   "cell_type": "code",
   "execution_count": 8,
   "id": "0d71cd1b",
   "metadata": {},
   "outputs": [],
   "source": [
    "train_df['content_id'].max()\n",
    "train_df['content_id'] = train_df['content_id'].astype('int16')"
   ]
  },
  {
   "cell_type": "code",
   "execution_count": 9,
   "id": "047e15c8",
   "metadata": {},
   "outputs": [],
   "source": [
    "train_df['user_id'].max()\n",
    "train_df['user_id'] = train_df['user_id'].astype('int32')"
   ]
  },
  {
   "cell_type": "code",
   "execution_count": 10,
   "id": "52148f8d",
   "metadata": {},
   "outputs": [],
   "source": [
    "train_df['prior_question_elapsed_time'].max()\n",
    "train_df['prior_question_elapsed_time'] = train_df['prior_question_elapsed_time'].astype('float32')"
   ]
  },
  {
   "cell_type": "code",
   "execution_count": 11,
   "id": "2dbf7d05",
   "metadata": {},
   "outputs": [
    {
     "name": "stdout",
     "output_type": "stream",
     "text": [
      "<class 'pandas.core.frame.DataFrame'>\n",
      "RangeIndex: 101230332 entries, 0 to 101230331\n",
      "Data columns (total 10 columns):\n",
      " #   Column                          Dtype  \n",
      "---  ------                          -----  \n",
      " 0   row_id                          int32  \n",
      " 1   timestamp                       int64  \n",
      " 2   user_id                         int32  \n",
      " 3   content_id                      int16  \n",
      " 4   content_type_id                 int8   \n",
      " 5   task_container_id               int16  \n",
      " 6   user_answer                     int8   \n",
      " 7   answered_correctly              int8   \n",
      " 8   prior_question_elapsed_time     float32\n",
      " 9   prior_question_had_explanation  object \n",
      "dtypes: float32(1), int16(2), int32(2), int64(1), int8(3), object(1)\n",
      "memory usage: 3.3+ GB\n"
     ]
    }
   ],
   "source": [
    "#размер df уменьшился более чем вдвое\n",
    "train_df.info()"
   ]
  },
  {
   "cell_type": "code",
   "execution_count": 12,
   "id": "729d1c83",
   "metadata": {},
   "outputs": [
    {
     "name": "stdout",
     "output_type": "stream",
     "text": [
      "<class 'pandas.core.frame.DataFrame'>\n",
      "RangeIndex: 13523 entries, 0 to 13522\n",
      "Data columns (total 5 columns):\n",
      " #   Column          Non-Null Count  Dtype \n",
      "---  ------          --------------  ----- \n",
      " 0   question_id     13523 non-null  int64 \n",
      " 1   bundle_id       13523 non-null  int64 \n",
      " 2   correct_answer  13523 non-null  int64 \n",
      " 3   part            13523 non-null  int64 \n",
      " 4   tags            13522 non-null  object\n",
      "dtypes: int64(4), object(1)\n",
      "memory usage: 528.4+ KB\n"
     ]
    }
   ],
   "source": [
    "# Загрузка данных\n",
    "questions_df = pd.read_csv('/Users/katerinakuhne/Documents/МАГА МФТИ/Python/Pandas/questions.csv') \n",
    "# Смотрим на 5 первых строк\n",
    "questions_df.info()"
   ]
  },
  {
   "cell_type": "code",
   "execution_count": 13,
   "id": "52393517",
   "metadata": {},
   "outputs": [
    {
     "name": "stdout",
     "output_type": "stream",
     "text": [
      "<class 'pandas.core.frame.DataFrame'>\n",
      "RangeIndex: 13523 entries, 0 to 13522\n",
      "Data columns (total 5 columns):\n",
      " #   Column          Non-Null Count  Dtype \n",
      "---  ------          --------------  ----- \n",
      " 0   question_id     13523 non-null  int16 \n",
      " 1   bundle_id       13523 non-null  int16 \n",
      " 2   correct_answer  13523 non-null  int8  \n",
      " 3   part            13523 non-null  int8  \n",
      " 4   tags            13522 non-null  object\n",
      "dtypes: int16(2), int8(2), object(1)\n",
      "memory usage: 185.0+ KB\n"
     ]
    }
   ],
   "source": [
    "questions_df = questions_df.astype({'question_id': 'int16', 'bundle_id': 'int16', 'correct_answer': 'int8', 'part': 'int8'}) \n",
    "questions_df.info()"
   ]
  },
  {
   "cell_type": "code",
   "execution_count": 14,
   "id": "99e10ea2",
   "metadata": {},
   "outputs": [
    {
     "data": {
      "text/html": [
       "<div>\n",
       "<style scoped>\n",
       "    .dataframe tbody tr th:only-of-type {\n",
       "        vertical-align: middle;\n",
       "    }\n",
       "\n",
       "    .dataframe tbody tr th {\n",
       "        vertical-align: top;\n",
       "    }\n",
       "\n",
       "    .dataframe thead th {\n",
       "        text-align: right;\n",
       "    }\n",
       "</style>\n",
       "<table border=\"1\" class=\"dataframe\">\n",
       "  <thead>\n",
       "    <tr style=\"text-align: right;\">\n",
       "      <th></th>\n",
       "      <th>question_id</th>\n",
       "      <th>bundle_id</th>\n",
       "      <th>correct_answer</th>\n",
       "      <th>part</th>\n",
       "      <th>tags</th>\n",
       "    </tr>\n",
       "  </thead>\n",
       "  <tbody>\n",
       "    <tr>\n",
       "      <th>0</th>\n",
       "      <td>0</td>\n",
       "      <td>0</td>\n",
       "      <td>0</td>\n",
       "      <td>1</td>\n",
       "      <td>51 131 162 38</td>\n",
       "    </tr>\n",
       "    <tr>\n",
       "      <th>1</th>\n",
       "      <td>1</td>\n",
       "      <td>1</td>\n",
       "      <td>1</td>\n",
       "      <td>1</td>\n",
       "      <td>131 36 81</td>\n",
       "    </tr>\n",
       "    <tr>\n",
       "      <th>2</th>\n",
       "      <td>2</td>\n",
       "      <td>2</td>\n",
       "      <td>0</td>\n",
       "      <td>1</td>\n",
       "      <td>131 101 162 92</td>\n",
       "    </tr>\n",
       "    <tr>\n",
       "      <th>3</th>\n",
       "      <td>3</td>\n",
       "      <td>3</td>\n",
       "      <td>0</td>\n",
       "      <td>1</td>\n",
       "      <td>131 149 162 29</td>\n",
       "    </tr>\n",
       "    <tr>\n",
       "      <th>4</th>\n",
       "      <td>4</td>\n",
       "      <td>4</td>\n",
       "      <td>3</td>\n",
       "      <td>1</td>\n",
       "      <td>131 5 162 38</td>\n",
       "    </tr>\n",
       "  </tbody>\n",
       "</table>\n",
       "</div>"
      ],
      "text/plain": [
       "   question_id  bundle_id  correct_answer  part            tags\n",
       "0            0          0               0     1   51 131 162 38\n",
       "1            1          1               1     1       131 36 81\n",
       "2            2          2               0     1  131 101 162 92\n",
       "3            3          3               0     1  131 149 162 29\n",
       "4            4          4               3     1    131 5 162 38"
      ]
     },
     "execution_count": 14,
     "metadata": {},
     "output_type": "execute_result"
    }
   ],
   "source": [
    "questions_df.head()"
   ]
  },
  {
   "cell_type": "code",
   "execution_count": 15,
   "id": "5b840c58",
   "metadata": {},
   "outputs": [
    {
     "name": "stdout",
     "output_type": "stream",
     "text": [
      "False\n",
      "True\n",
      "1400    1400\n",
      "1401    1401\n",
      "1402    1402\n",
      "1403    1403\n",
      "1404    1404\n",
      "1405    1405\n",
      "1406    1406\n",
      "1407    1407\n",
      "1408    1408\n",
      "1409    1409\n",
      "1410    1410\n",
      "1411    1411\n",
      "1412    1412\n",
      "1413    1413\n",
      "1414    1414\n",
      "Name: question_id, dtype: int16\n",
      "1400    1400\n",
      "1401    1400\n",
      "1402    1400\n",
      "1403    1403\n",
      "1404    1403\n",
      "1405    1403\n",
      "1406    1406\n",
      "1407    1406\n",
      "1408    1406\n",
      "1409    1409\n",
      "1410    1409\n",
      "1411    1409\n",
      "1412    1412\n",
      "1413    1412\n",
      "1414    1412\n",
      "Name: bundle_id, dtype: int16\n"
     ]
    }
   ],
   "source": [
    "#На первый взгляд question_id дублирует bundle_id, но на поверку это оказывается не так:\n",
    "all_match = (questions_df['question_id'] == questions_df['bundle_id']).all()\n",
    "print(all_match)\n",
    "\n",
    "#Тем не менее после некоторых манипуляций удается выяснить, что в bundle_id на 1402 строке происходит сбой нумерации, то есть на самом деле этот столбец дублирует question_id, просто он немного \"поломанный\"\n",
    "print((questions_df['question_id'].iloc[0:1401]==questions_df['bundle_id'].iloc[0:1401]).all())\n",
    "\n",
    "print(questions_df['question_id'].iloc[1400:1415])\n",
    "print(questions_df['bundle_id'].iloc[1400:1415])\n",
    "\n",
    "#Удалим \"поломанный\" столбец\n",
    "questions_df.drop(columns=['bundle_id'], inplace=True)"
   ]
  },
  {
   "cell_type": "code",
   "execution_count": 16,
   "id": "174067b0",
   "metadata": {},
   "outputs": [
    {
     "name": "stdout",
     "output_type": "stream",
     "text": [
      "<class 'pandas.core.frame.DataFrame'>\n",
      "RangeIndex: 418 entries, 0 to 417\n",
      "Data columns (total 4 columns):\n",
      " #   Column      Non-Null Count  Dtype \n",
      "---  ------      --------------  ----- \n",
      " 0   lecture_id  418 non-null    int64 \n",
      " 1   tag         418 non-null    int64 \n",
      " 2   part        418 non-null    int64 \n",
      " 3   type_of     418 non-null    object\n",
      "dtypes: int64(3), object(1)\n",
      "memory usage: 13.2+ KB\n"
     ]
    }
   ],
   "source": [
    "# Загрузка данных\n",
    "lectures_df = pd.read_csv('/Users/katerinakuhne/Documents/МАГА МФТИ/Python/Pandas/lectures.csv') \n",
    "# Смотрим на 5 первых строк\n",
    "lectures_df.info()"
   ]
  },
  {
   "cell_type": "code",
   "execution_count": 17,
   "id": "97da535d",
   "metadata": {},
   "outputs": [
    {
     "name": "stdout",
     "output_type": "stream",
     "text": [
      "<class 'pandas.core.frame.DataFrame'>\n",
      "RangeIndex: 418 entries, 0 to 417\n",
      "Data columns (total 4 columns):\n",
      " #   Column      Non-Null Count  Dtype \n",
      "---  ------      --------------  ----- \n",
      " 0   lecture_id  418 non-null    int16 \n",
      " 1   tag         418 non-null    int16 \n",
      " 2   part        418 non-null    int8  \n",
      " 3   type_of     418 non-null    object\n",
      "dtypes: int16(2), int8(1), object(1)\n",
      "memory usage: 5.4+ KB\n"
     ]
    }
   ],
   "source": [
    "lectures_df['part'].max()\n",
    "lectures_df = lectures_df.astype({'lecture_id': 'int16', 'tag': 'int16', 'part': 'int8'}) \n",
    "lectures_df.info()"
   ]
  },
  {
   "cell_type": "markdown",
   "id": "a3925461",
   "metadata": {},
   "source": [
    "## 3. Преобразование данных в некоторых колонках\n",
    "Колонка tags в questions_df содержит наборы тегов (один или несколько тегов). Как мы проанализируем ниже, количество уникальных тегов - 188, а количество уникальных комбинаций тегов и того больше - 1519. Причем большинство комбинаций тегов встречаются меньше 50 раз. В таком случае имеет смысл выделить 20 подтипов, которые встречаются чаще всего, а остальные обозначить как 'other'. Также я решила создать колонку с 20 самыми популярными одиночными тегами (то есть из каждого набора я вытащила только один популярный, если такой там есть, а иначе заменила на other). "
   ]
  },
  {
   "cell_type": "code",
   "execution_count": 18,
   "id": "b74b3b27",
   "metadata": {},
   "outputs": [
    {
     "name": "stdout",
     "output_type": "stream",
     "text": [
      "188\n"
     ]
    }
   ],
   "source": [
    "unique_tags = questions_df['tags'].str.split().explode().nunique()\n",
    "print(unique_tags)"
   ]
  },
  {
   "cell_type": "code",
   "execution_count": 39,
   "id": "2c52925b",
   "metadata": {},
   "outputs": [],
   "source": [
    "all_tags = questions_df['tags'].str.split()"
   ]
  },
  {
   "cell_type": "code",
   "execution_count": 20,
   "id": "0f3f1788",
   "metadata": {},
   "outputs": [
    {
     "data": {
      "text/plain": [
       "0         [51, 131, 162, 38]\n",
       "1              [131, 36, 81]\n",
       "2        [131, 101, 162, 92]\n",
       "3        [131, 149, 162, 29]\n",
       "4          [131, 5, 162, 38]\n",
       "                ...         \n",
       "13518                   [14]\n",
       "13519                    [8]\n",
       "13520                   [73]\n",
       "13521                  [125]\n",
       "13522                   [55]\n",
       "Name: tags, Length: 13523, dtype: object"
      ]
     },
     "metadata": {},
     "output_type": "display_data"
    }
   ],
   "source": [
    "display(all_tags)"
   ]
  },
  {
   "cell_type": "code",
   "execution_count": 21,
   "id": "1c67d70e",
   "metadata": {},
   "outputs": [],
   "source": [
    "tag_counts = questions_df['tags'].str.split().explode().value_counts().nlargest(20)"
   ]
  },
  {
   "cell_type": "code",
   "execution_count": 22,
   "id": "babe3580",
   "metadata": {},
   "outputs": [
    {
     "data": {
      "text/html": [
       "<div>\n",
       "<style scoped>\n",
       "    .dataframe tbody tr th:only-of-type {\n",
       "        vertical-align: middle;\n",
       "    }\n",
       "\n",
       "    .dataframe tbody tr th {\n",
       "        vertical-align: top;\n",
       "    }\n",
       "\n",
       "    .dataframe thead th {\n",
       "        text-align: right;\n",
       "    }\n",
       "</style>\n",
       "<table border=\"1\" class=\"dataframe\">\n",
       "  <thead>\n",
       "    <tr style=\"text-align: right;\">\n",
       "      <th></th>\n",
       "      <th>question_id</th>\n",
       "      <th>correct_answer</th>\n",
       "      <th>part</th>\n",
       "      <th>tags</th>\n",
       "      <th>popular_tags</th>\n",
       "    </tr>\n",
       "  </thead>\n",
       "  <tbody>\n",
       "    <tr>\n",
       "      <th>0</th>\n",
       "      <td>0</td>\n",
       "      <td>0</td>\n",
       "      <td>1</td>\n",
       "      <td>51 131 162 38</td>\n",
       "      <td>131</td>\n",
       "    </tr>\n",
       "    <tr>\n",
       "      <th>1</th>\n",
       "      <td>1</td>\n",
       "      <td>1</td>\n",
       "      <td>1</td>\n",
       "      <td>131 36 81</td>\n",
       "      <td>131</td>\n",
       "    </tr>\n",
       "    <tr>\n",
       "      <th>2</th>\n",
       "      <td>2</td>\n",
       "      <td>0</td>\n",
       "      <td>1</td>\n",
       "      <td>131 101 162 92</td>\n",
       "      <td>131</td>\n",
       "    </tr>\n",
       "    <tr>\n",
       "      <th>3</th>\n",
       "      <td>3</td>\n",
       "      <td>0</td>\n",
       "      <td>1</td>\n",
       "      <td>131 149 162 29</td>\n",
       "      <td>131</td>\n",
       "    </tr>\n",
       "    <tr>\n",
       "      <th>4</th>\n",
       "      <td>4</td>\n",
       "      <td>3</td>\n",
       "      <td>1</td>\n",
       "      <td>131 5 162 38</td>\n",
       "      <td>131</td>\n",
       "    </tr>\n",
       "  </tbody>\n",
       "</table>\n",
       "</div>"
      ],
      "text/plain": [
       "   question_id  correct_answer  part            tags popular_tags\n",
       "0            0               0     1   51 131 162 38          131\n",
       "1            1               1     1       131 36 81          131\n",
       "2            2               0     1  131 101 162 92          131\n",
       "3            3               0     1  131 149 162 29          131\n",
       "4            4               3     1    131 5 162 38          131"
      ]
     },
     "execution_count": 22,
     "metadata": {},
     "output_type": "execute_result"
    }
   ],
   "source": [
    "def get_popular_tag(tags, tag_counts):\n",
    "    if not isinstance(tags, list):\n",
    "        return 'other'\n",
    "    for tag in tags:\n",
    "        if tag in tag_counts:  # Проверяем, есть ли тег среди популярных\n",
    "            return tag  # Возвращаем первый найденный популярный тег\n",
    "    return 'other'  # Если нет популярных тегов, возвращаем \"other\"\n",
    "\n",
    "# Применяем функцию к Series\n",
    "questions_df['popular_tags'] = all_tags.apply(lambda x: get_popular_tag(x, tag_counts))\n",
    "\n",
    "# Выводим результат\n",
    "questions_df.head()"
   ]
  },
  {
   "cell_type": "code",
   "execution_count": 23,
   "id": "240bee25",
   "metadata": {},
   "outputs": [
    {
     "name": "stdout",
     "output_type": "stream",
     "text": [
      "1519\n"
     ]
    }
   ],
   "source": [
    "print(questions_df['tags'].nunique())"
   ]
  },
  {
   "cell_type": "code",
   "execution_count": 24,
   "id": "d11a2746",
   "metadata": {},
   "outputs": [
    {
     "data": {
      "text/plain": [
       "8            738\n",
       "73           617\n",
       "53           523\n",
       "1            413\n",
       "96           373\n",
       "55           308\n",
       "79           293\n",
       "27           261\n",
       "14           232\n",
       "173          222\n",
       "109          204\n",
       "89           202\n",
       "136 81 92    140\n",
       "91           125\n",
       "136 38 29    110\n",
       "60           108\n",
       "116           99\n",
       "7             76\n",
       "147           75\n",
       "72            72\n",
       "Name: tags, dtype: int64"
      ]
     },
     "execution_count": 24,
     "metadata": {},
     "output_type": "execute_result"
    }
   ],
   "source": [
    "questions_df['tags'].value_counts().nlargest(20)"
   ]
  },
  {
   "cell_type": "code",
   "execution_count": 25,
   "id": "8a9ef90c",
   "metadata": {},
   "outputs": [
    {
     "name": "stdout",
     "output_type": "stream",
     "text": [
      "Index(['8', '73', '53', '1', '96', '55', '79', '27', '14', '173', '109', '89',\n",
      "       '136 81 92', '91', '136 38 29', '60', '116', '7', '147', '72'],\n",
      "      dtype='object')\n"
     ]
    }
   ],
   "source": [
    "popular_tags=questions_df['tags'].value_counts().nlargest(20).index\n",
    "print(popular_tags)"
   ]
  },
  {
   "cell_type": "code",
   "execution_count": 26,
   "id": "8e01d319",
   "metadata": {},
   "outputs": [
    {
     "data": {
      "text/plain": [
       "0     51 131 162 38\n",
       "1         131 36 81\n",
       "2    131 101 162 92\n",
       "3    131 149 162 29\n",
       "4      131 5 162 38\n",
       "Name: tags, dtype: object"
      ]
     },
     "execution_count": 26,
     "metadata": {},
     "output_type": "execute_result"
    }
   ],
   "source": [
    "questions_tags=questions_df['tags']\n",
    "questions_tags.head()"
   ]
  },
  {
   "cell_type": "code",
   "execution_count": 27,
   "id": "3b238b96",
   "metadata": {},
   "outputs": [
    {
     "data": {
      "text/plain": [
       "0        other\n",
       "1        other\n",
       "2        other\n",
       "3        other\n",
       "4        other\n",
       "         ...  \n",
       "13518       14\n",
       "13519        8\n",
       "13520       73\n",
       "13521    other\n",
       "13522       55\n",
       "Name: popular_tags_combination, Length: 13523, dtype: object"
      ]
     },
     "metadata": {},
     "output_type": "display_data"
    }
   ],
   "source": [
    "questions_df['popular_tags_combination'] = questions_tags.apply(lambda x: x if x in popular_tags else 'other')\n",
    "display(questions_df['popular_tags_combination'])"
   ]
  },
  {
   "cell_type": "code",
   "execution_count": 28,
   "id": "3936d5b7",
   "metadata": {},
   "outputs": [
    {
     "name": "stdout",
     "output_type": "stream",
     "text": [
      "<class 'pandas.core.frame.DataFrame'>\n",
      "RangeIndex: 13523 entries, 0 to 13522\n",
      "Data columns (total 6 columns):\n",
      " #   Column                    Non-Null Count  Dtype \n",
      "---  ------                    --------------  ----- \n",
      " 0   question_id               13523 non-null  int16 \n",
      " 1   correct_answer            13523 non-null  int8  \n",
      " 2   part                      13523 non-null  int8  \n",
      " 3   tags                      13522 non-null  object\n",
      " 4   popular_tags              13523 non-null  object\n",
      " 5   popular_tags_combination  13523 non-null  object\n",
      "dtypes: int16(1), int8(2), object(3)\n",
      "memory usage: 369.9+ KB\n"
     ]
    }
   ],
   "source": [
    "questions_df.info()"
   ]
  },
  {
   "cell_type": "markdown",
   "id": "ccdc0a33",
   "metadata": {},
   "source": [
    "## 4. Анализ пропусков\n",
    "Выявим и обработаем пропуски."
   ]
  },
  {
   "cell_type": "code",
   "execution_count": 29,
   "id": "1bf94739",
   "metadata": {},
   "outputs": [
    {
     "data": {
      "text/html": [
       "<div>\n",
       "<style scoped>\n",
       "    .dataframe tbody tr th:only-of-type {\n",
       "        vertical-align: middle;\n",
       "    }\n",
       "\n",
       "    .dataframe tbody tr th {\n",
       "        vertical-align: top;\n",
       "    }\n",
       "\n",
       "    .dataframe thead th {\n",
       "        text-align: right;\n",
       "    }\n",
       "</style>\n",
       "<table border=\"1\" class=\"dataframe\">\n",
       "  <thead>\n",
       "    <tr style=\"text-align: right;\">\n",
       "      <th></th>\n",
       "      <th>Столбцы</th>\n",
       "      <th>Количество строк c NaN</th>\n",
       "      <th>% NaN значений в столбце</th>\n",
       "    </tr>\n",
       "  </thead>\n",
       "  <tbody>\n",
       "    <tr>\n",
       "      <th>0</th>\n",
       "      <td>prior_question_elapsed_time</td>\n",
       "      <td>2351538</td>\n",
       "      <td>2.32</td>\n",
       "    </tr>\n",
       "    <tr>\n",
       "      <th>1</th>\n",
       "      <td>prior_question_had_explanation</td>\n",
       "      <td>392506</td>\n",
       "      <td>0.39</td>\n",
       "    </tr>\n",
       "  </tbody>\n",
       "</table>\n",
       "</div>"
      ],
      "text/plain": [
       "                          Столбцы  Количество строк c NaN  \\\n",
       "0     prior_question_elapsed_time                 2351538   \n",
       "1  prior_question_had_explanation                  392506   \n",
       "\n",
       "   % NaN значений в столбце  \n",
       "0                      2.32  \n",
       "1                      0.39  "
      ]
     },
     "execution_count": 29,
     "metadata": {},
     "output_type": "execute_result"
    }
   ],
   "source": [
    "#Проанализируем пропущенные значения: посчитаем их в каждом столбце и сколько их в процентном соотношении с остальными значениями\n",
    "def analyze_nan(train_df):\n",
    "    #Пропущенных значений по каждому столбцу\n",
    "    nan_count = train_df.isna().sum()\n",
    "    #Процент пропущенных значений\n",
    "    nan_percentage = round((nan_count / len(train_df)) * 100, 2)\n",
    "    nan_df = pd.DataFrame({\n",
    "        'Столбцы': nan_count.index,\n",
    "        'Количество строк c NaN': nan_count.values,\n",
    "        '% NaN значений в столбце': nan_percentage.values\n",
    "    })\n",
    "    #Фильтрация только тех столбцов, где есть пропуски\n",
    "    nan_df = nan_df[nan_df['Количество строк c NaN'] > 0].reset_index(drop=True)\n",
    "    return nan_df\n",
    "\n",
    "nan_data = analyze_nan(train_df)\n",
    "nan_data"
   ]
  },
  {
   "cell_type": "markdown",
   "id": "c023a45f",
   "metadata": {},
   "source": [
    "Заметим, NaN в prior_question_had_explanation и в prior_question_elapsed_time появляются тогда, когда timestamp=0, что логично, т.к. timestamp-время от первого взаимодействия пользователя с системой, prior_question_elapsed_time-время, которое пользователь потратил на предыдущий набор вопросов (не включая лекции), а prior_question_had_explanation-признак, указывающий, видел ли пользователь объяснение ответа после предыдущего набора вопросов. "
   ]
  },
  {
   "cell_type": "code",
   "execution_count": 30,
   "id": "557c6bbf",
   "metadata": {},
   "outputs": [
    {
     "data": {
      "text/plain": [
       "392521"
      ]
     },
     "execution_count": 30,
     "metadata": {},
     "output_type": "execute_result"
    }
   ],
   "source": [
    "train_df.loc[(train_df['timestamp'] == 0) & (train_df['prior_question_elapsed_time'].isna())].shape[0]"
   ]
  },
  {
   "cell_type": "code",
   "execution_count": 31,
   "id": "1a3ac54c",
   "metadata": {},
   "outputs": [
    {
     "data": {
      "text/plain": [
       "392441"
      ]
     },
     "execution_count": 31,
     "metadata": {},
     "output_type": "execute_result"
    }
   ],
   "source": [
    "train_df.loc[(train_df['timestamp'] == 0) & (train_df['prior_question_had_explanation'].isna())].shape[0]"
   ]
  },
  {
   "cell_type": "markdown",
   "id": "9aabb2f0",
   "metadata": {},
   "source": [
    "Тогда для строк \"первого взаимодействия пользователя с системой\" заменим пропущенные значения в prior_question_elapsed_time на 0, а в prior_question_had_explanation на False"
   ]
  },
  {
   "cell_type": "code",
   "execution_count": 32,
   "id": "8b0bfdec",
   "metadata": {},
   "outputs": [],
   "source": [
    "train_df.loc[(train_df['timestamp'] == 0) & (train_df['prior_question_elapsed_time'].isna()), 'prior_question_elapsed_time'] = 0"
   ]
  },
  {
   "cell_type": "code",
   "execution_count": 33,
   "id": "1dc3e8e5",
   "metadata": {},
   "outputs": [],
   "source": [
    "train_df.loc[(train_df['timestamp'] == 0) & (train_df['prior_question_had_explanation'].isna()), 'prior_question_had_explanation'] = False"
   ]
  },
  {
   "cell_type": "code",
   "execution_count": 34,
   "id": "cfe26dd2",
   "metadata": {},
   "outputs": [
    {
     "data": {
      "text/plain": [
       "row_id                                  0\n",
       "timestamp                               0\n",
       "user_id                                 0\n",
       "content_id                              0\n",
       "content_type_id                         0\n",
       "task_container_id                       0\n",
       "user_answer                             0\n",
       "answered_correctly                      0\n",
       "prior_question_elapsed_time       1959017\n",
       "prior_question_had_explanation         65\n",
       "dtype: int64"
      ]
     },
     "execution_count": 34,
     "metadata": {},
     "output_type": "execute_result"
    }
   ],
   "source": [
    "train_df.isna().sum()"
   ]
  },
  {
   "cell_type": "code",
   "execution_count": 35,
   "id": "81596e92",
   "metadata": {},
   "outputs": [
    {
     "name": "stdout",
     "output_type": "stream",
     "text": [
      "0.9999668200770182\n"
     ]
    }
   ],
   "source": [
    "#Для подавляющего большинства оставшихся пропущенных значений prior_question_elapsed_time (время, которое пользователь потратил на предыдущий набор вопросов (не включая лекции)), предыдущей активностью пользователя была лекция. \n",
    "condition = train_df['prior_question_elapsed_time'].isna()\n",
    "previous_rows = train_df[condition].shift(1)\n",
    "print(previous_rows['content_type_id'].mean())"
   ]
  },
  {
   "cell_type": "code",
   "execution_count": 36,
   "id": "47b930e1",
   "metadata": {},
   "outputs": [
    {
     "data": {
      "text/plain": [
       "question_id                 0\n",
       "correct_answer              0\n",
       "part                        0\n",
       "tags                        1\n",
       "popular_tags                0\n",
       "popular_tags_combination    0\n",
       "dtype: int64"
      ]
     },
     "execution_count": 36,
     "metadata": {},
     "output_type": "execute_result"
    }
   ],
   "source": [
    "questions_df.isna().sum()"
   ]
  },
  {
   "cell_type": "code",
   "execution_count": 37,
   "id": "e03b867a",
   "metadata": {},
   "outputs": [
    {
     "data": {
      "text/plain": [
       "lecture_id    0\n",
       "tag           0\n",
       "part          0\n",
       "type_of       0\n",
       "dtype: int64"
      ]
     },
     "execution_count": 37,
     "metadata": {},
     "output_type": "execute_result"
    }
   ],
   "source": [
    "lectures_df.isna().sum()"
   ]
  },
  {
   "cell_type": "markdown",
   "id": "cd284f3d",
   "metadata": {},
   "source": [
    "### Вывод: количество пропусков изначально мало, после преобразований незначительное (около 2% для одного признака и десятые процента для остальных). \n",
    "Мы также выяснили, что для подавляющего большинства оставшихся пропущенных значений prior_question_elapsed_time (время, которое пользователь потратил на предыдущий набор вопросов (не включая лекции)), предыдущей активностью пользователя была лекция. При необходимости их можно восполнить, заменив на время, которое пользователь потратил на предыдущий вопрос (до лекции). Или заполнить нулями. "
   ]
  },
  {
   "cell_type": "markdown",
   "id": "159a5cdb",
   "metadata": {},
   "source": [
    "## 5. Распределение переменных\n",
    "Проанализируем распределение каждой переменной, как числовой, так и категориальной."
   ]
  },
  {
   "cell_type": "code",
   "execution_count": 38,
   "id": "edd246ac",
   "metadata": {},
   "outputs": [
    {
     "data": {
      "image/png": "[encoded data removed]",
      "text/plain": [
       "<Figure size 864x720 with 9 Axes>"
      ]
     },
     "metadata": {
      "needs_background": "light"
     },
     "output_type": "display_data"
    }
   ],
   "source": [
    "#Распределение числовых переменных train_df\n",
    "import matplotlib.pyplot as plt\n",
    "\n",
    "train_df.hist(bins=30, figsize=(12, 10), color='green')\n",
    "plt.suptitle('Распределение числовых переменных')\n",
    "plt.show()"
   ]
  },
  {
   "cell_type": "code",
   "execution_count": 40,
   "id": "ed2fb08a",
   "metadata": {},
   "outputs": [
    {
     "data": {
      "image/png": "[encoded data removed]",
      "text/plain": [
       "<Figure size 432x288 with 1 Axes>"
      ]
     },
     "metadata": {
      "needs_background": "light"
     },
     "output_type": "display_data"
    }
   ],
   "source": [
    "import seaborn as sns\n",
    "\n",
    "# Распределение категориальных переменных\n",
    "for column in ['prior_question_had_explanation']:\n",
    "    sns.countplot(x=column, data=train_df)\n",
    "    plt.title(f'Распределение {column}')\n",
    "    plt.show()"
   ]
  },
  {
   "cell_type": "code",
   "execution_count": 41,
   "id": "f1be70eb",
   "metadata": {},
   "outputs": [
    {
     "data": {
      "image/png": "[encoded data removed]",
      "text/plain": [
       "<Figure size 864x720 with 4 Axes>"
      ]
     },
     "metadata": {
      "needs_background": "light"
     },
     "output_type": "display_data"
    }
   ],
   "source": [
    "#Распределение числовых переменных lectures_df\n",
    "lectures_df.hist(bins=30, figsize=(12, 10), color='green')\n",
    "plt.show()"
   ]
  },
  {
   "cell_type": "code",
   "execution_count": 42,
   "id": "72db1b56",
   "metadata": {},
   "outputs": [
    {
     "data": {
      "image/png": "[encoded data removed]",
      "text/plain": [
       "<Figure size 864x576 with 1 Axes>"
      ]
     },
     "metadata": {
      "needs_background": "light"
     },
     "output_type": "display_data"
    }
   ],
   "source": [
    "# Распределение категориальных переменных lectures_df\n",
    "for column in ['type_of']:\n",
    "    plt.figure(figsize=(12, 8))\n",
    "    sns.countplot(x=column, data=lectures_df)\n",
    "    plt.title(f'Распределение {column}')\n",
    "    plt.show()"
   ]
  },
  {
   "cell_type": "code",
   "execution_count": 43,
   "id": "5576b50c",
   "metadata": {},
   "outputs": [
    {
     "data": {
      "image/png": "[encoded data removed]",
      "text/plain": [
       "<Figure size 864x576 with 1 Axes>"
      ]
     },
     "metadata": {
      "needs_background": "light"
     },
     "output_type": "display_data"
    },
    {
     "data": {
      "image/png": "[encoded data removed]",
      "text/plain": [
       "<Figure size 864x576 with 1 Axes>"
      ]
     },
     "metadata": {
      "needs_background": "light"
     },
     "output_type": "display_data"
    },
    {
     "data": {
      "image/png": "[encoded data removed]",
      "text/plain": [
       "<Figure size 864x576 with 1 Axes>"
      ]
     },
     "metadata": {
      "needs_background": "light"
     },
     "output_type": "display_data"
    }
   ],
   "source": [
    "# Распределение категориальных переменных questions_df\n",
    "for column in ['tags', 'popular_tags', 'popular_tags_combination']:\n",
    "    plt.figure(figsize=(12, 8))\n",
    "    sns.countplot(x=column, data=questions_df)\n",
    "    plt.title(f'Распределение {column}')\n",
    "    plt.show()"
   ]
  },
  {
   "cell_type": "code",
   "execution_count": 44,
   "id": "ab4c2cab",
   "metadata": {},
   "outputs": [
    {
     "data": {
      "image/png": "[encoded data removed]",
      "text/plain": [
       "<Figure size 864x720 with 4 Axes>"
      ]
     },
     "metadata": {
      "needs_background": "light"
     },
     "output_type": "display_data"
    }
   ],
   "source": [
    "#Распределение числовых переменных questions_df\n",
    "questions_df.hist(bins=30, figsize=(12, 10), color='green')\n",
    "plt.show()"
   ]
  },
  {
   "cell_type": "markdown",
   "id": "d0624f21",
   "metadata": {},
   "source": [
    "## 6. Взаимосвязь между признаками\n",
    "Проанализируем взаимосвязь между признаками. "
   ]
  },
  {
   "cell_type": "markdown",
   "id": "09cf9468",
   "metadata": {},
   "source": [
    "Сгруппируем данные по типу контента и заметим, что каждый раз, когда пользователь смотрит лекцию, он получает -1 в любом случае, правильных или неправильных ответов для лекций нет. То есть -1 — это просто факт взаимодействия с контентом типа \"лекция\". Наша задача — предсказать, сможет ли ученик правильно ответить на следующий вопрос. То есть в случае с лекциями предсказывать нечего. Получается, что данные относящиеся к лекциям могут влиять на правильность ответа на вопрос только опосредованно (например, если студент смотрел лекцию по релевантной теме перед тем как отвечать на вопрос, он, возможно, с большей вероятностью ответит правильно и т.д.). Но для того, чтобы выявить такие влияния, необходимо переработать данные, хранящихся в lectures и данные о лекциях из основного датафрейма, создав из них новые признаки."
   ]
  },
  {
   "cell_type": "code",
   "execution_count": 45,
   "id": "636d3e06",
   "metadata": {},
   "outputs": [
    {
     "data": {
      "text/plain": [
       "content_type_id\n",
       "0    0.657236\n",
       "1   -1.000000\n",
       "Name: answered_correctly, dtype: float64"
      ]
     },
     "execution_count": 45,
     "metadata": {},
     "output_type": "execute_result"
    }
   ],
   "source": [
    "train_df.groupby('content_type_id')['answered_correctly'].mean()"
   ]
  },
  {
   "cell_type": "markdown",
   "id": "4074660b",
   "metadata": {},
   "source": [
    "Разобьем train_df на два датасета: один только с информацией, относящейся к вопросам, другой — только к лекциям, дополним их данными из lectures_df и questions_df, затем сольем все в один датафрейм. "
   ]
  },
  {
   "cell_type": "code",
   "execution_count": 46,
   "id": "45f9685f",
   "metadata": {},
   "outputs": [],
   "source": [
    "train_questions = train_df[train_df['content_type_id'] == 0]"
   ]
  },
  {
   "cell_type": "code",
   "execution_count": 83,
   "id": "3b9bee5e",
   "metadata": {},
   "outputs": [],
   "source": [
    "train_lectures = train_df[train_df['content_type_id'] == 1]"
   ]
  },
  {
   "cell_type": "code",
   "execution_count": 48,
   "id": "91a9a34c",
   "metadata": {},
   "outputs": [],
   "source": [
    "train_questions = train_questions.merge(\n",
    "    questions_df, how='left', left_on='content_id', right_on='question_id'\n",
    ")"
   ]
  },
  {
   "cell_type": "code",
   "execution_count": 49,
   "id": "b81bd654",
   "metadata": {},
   "outputs": [
    {
     "data": {
      "text/html": [
       "<div>\n",
       "<style scoped>\n",
       "    .dataframe tbody tr th:only-of-type {\n",
       "        vertical-align: middle;\n",
       "    }\n",
       "\n",
       "    .dataframe tbody tr th {\n",
       "        vertical-align: top;\n",
       "    }\n",
       "\n",
       "    .dataframe thead th {\n",
       "        text-align: right;\n",
       "    }\n",
       "</style>\n",
       "<table border=\"1\" class=\"dataframe\">\n",
       "  <thead>\n",
       "    <tr style=\"text-align: right;\">\n",
       "      <th></th>\n",
       "      <th>row_id</th>\n",
       "      <th>timestamp</th>\n",
       "      <th>user_id</th>\n",
       "      <th>content_id</th>\n",
       "      <th>content_type_id</th>\n",
       "      <th>task_container_id</th>\n",
       "      <th>user_answer</th>\n",
       "      <th>answered_correctly</th>\n",
       "      <th>prior_question_elapsed_time</th>\n",
       "      <th>prior_question_had_explanation</th>\n",
       "      <th>question_id</th>\n",
       "      <th>correct_answer</th>\n",
       "      <th>part</th>\n",
       "      <th>tags</th>\n",
       "      <th>popular_tags</th>\n",
       "      <th>popular_tags_combination</th>\n",
       "    </tr>\n",
       "  </thead>\n",
       "  <tbody>\n",
       "    <tr>\n",
       "      <th>0</th>\n",
       "      <td>0</td>\n",
       "      <td>0</td>\n",
       "      <td>115</td>\n",
       "      <td>5692</td>\n",
       "      <td>0</td>\n",
       "      <td>1</td>\n",
       "      <td>3</td>\n",
       "      <td>1</td>\n",
       "      <td>0.0</td>\n",
       "      <td>False</td>\n",
       "      <td>5692</td>\n",
       "      <td>3</td>\n",
       "      <td>5</td>\n",
       "      <td>151</td>\n",
       "      <td>other</td>\n",
       "      <td>other</td>\n",
       "    </tr>\n",
       "    <tr>\n",
       "      <th>1</th>\n",
       "      <td>1</td>\n",
       "      <td>56943</td>\n",
       "      <td>115</td>\n",
       "      <td>5716</td>\n",
       "      <td>0</td>\n",
       "      <td>2</td>\n",
       "      <td>2</td>\n",
       "      <td>1</td>\n",
       "      <td>37000.0</td>\n",
       "      <td>False</td>\n",
       "      <td>5716</td>\n",
       "      <td>2</td>\n",
       "      <td>5</td>\n",
       "      <td>168</td>\n",
       "      <td>other</td>\n",
       "      <td>other</td>\n",
       "    </tr>\n",
       "    <tr>\n",
       "      <th>2</th>\n",
       "      <td>2</td>\n",
       "      <td>118363</td>\n",
       "      <td>115</td>\n",
       "      <td>128</td>\n",
       "      <td>0</td>\n",
       "      <td>0</td>\n",
       "      <td>0</td>\n",
       "      <td>1</td>\n",
       "      <td>55000.0</td>\n",
       "      <td>False</td>\n",
       "      <td>128</td>\n",
       "      <td>0</td>\n",
       "      <td>1</td>\n",
       "      <td>131 149 92</td>\n",
       "      <td>131</td>\n",
       "      <td>other</td>\n",
       "    </tr>\n",
       "    <tr>\n",
       "      <th>3</th>\n",
       "      <td>3</td>\n",
       "      <td>131167</td>\n",
       "      <td>115</td>\n",
       "      <td>7860</td>\n",
       "      <td>0</td>\n",
       "      <td>3</td>\n",
       "      <td>0</td>\n",
       "      <td>1</td>\n",
       "      <td>19000.0</td>\n",
       "      <td>False</td>\n",
       "      <td>7860</td>\n",
       "      <td>0</td>\n",
       "      <td>1</td>\n",
       "      <td>131 104 81</td>\n",
       "      <td>131</td>\n",
       "      <td>other</td>\n",
       "    </tr>\n",
       "    <tr>\n",
       "      <th>4</th>\n",
       "      <td>4</td>\n",
       "      <td>137965</td>\n",
       "      <td>115</td>\n",
       "      <td>7922</td>\n",
       "      <td>0</td>\n",
       "      <td>4</td>\n",
       "      <td>1</td>\n",
       "      <td>1</td>\n",
       "      <td>11000.0</td>\n",
       "      <td>False</td>\n",
       "      <td>7922</td>\n",
       "      <td>1</td>\n",
       "      <td>1</td>\n",
       "      <td>131 149 92</td>\n",
       "      <td>131</td>\n",
       "      <td>other</td>\n",
       "    </tr>\n",
       "  </tbody>\n",
       "</table>\n",
       "</div>"
      ],
      "text/plain": [
       "   row_id  timestamp  user_id  content_id  content_type_id  task_container_id  \\\n",
       "0       0          0      115        5692                0                  1   \n",
       "1       1      56943      115        5716                0                  2   \n",
       "2       2     118363      115         128                0                  0   \n",
       "3       3     131167      115        7860                0                  3   \n",
       "4       4     137965      115        7922                0                  4   \n",
       "\n",
       "   user_answer  answered_correctly  prior_question_elapsed_time  \\\n",
       "0            3                   1                          0.0   \n",
       "1            2                   1                      37000.0   \n",
       "2            0                   1                      55000.0   \n",
       "3            0                   1                      19000.0   \n",
       "4            1                   1                      11000.0   \n",
       "\n",
       "  prior_question_had_explanation  question_id  correct_answer  part  \\\n",
       "0                          False         5692               3     5   \n",
       "1                          False         5716               2     5   \n",
       "2                          False          128               0     1   \n",
       "3                          False         7860               0     1   \n",
       "4                          False         7922               1     1   \n",
       "\n",
       "         tags popular_tags popular_tags_combination  \n",
       "0         151        other                    other  \n",
       "1         168        other                    other  \n",
       "2  131 149 92          131                    other  \n",
       "3  131 104 81          131                    other  \n",
       "4  131 149 92          131                    other  "
      ]
     },
     "execution_count": 49,
     "metadata": {},
     "output_type": "execute_result"
    }
   ],
   "source": [
    "train_questions.head()"
   ]
  },
  {
   "cell_type": "code",
   "execution_count": 50,
   "id": "d8f8cee1",
   "metadata": {},
   "outputs": [],
   "source": [
    "train_questions.drop(columns=['question_id'], inplace=True)"
   ]
  },
  {
   "cell_type": "code",
   "execution_count": 51,
   "id": "0fae529d",
   "metadata": {},
   "outputs": [
    {
     "data": {
      "text/html": [
       "<div>\n",
       "<style scoped>\n",
       "    .dataframe tbody tr th:only-of-type {\n",
       "        vertical-align: middle;\n",
       "    }\n",
       "\n",
       "    .dataframe tbody tr th {\n",
       "        vertical-align: top;\n",
       "    }\n",
       "\n",
       "    .dataframe thead th {\n",
       "        text-align: right;\n",
       "    }\n",
       "</style>\n",
       "<table border=\"1\" class=\"dataframe\">\n",
       "  <thead>\n",
       "    <tr style=\"text-align: right;\">\n",
       "      <th></th>\n",
       "      <th>row_id</th>\n",
       "      <th>timestamp</th>\n",
       "      <th>user_id</th>\n",
       "      <th>content_id</th>\n",
       "      <th>content_type_id</th>\n",
       "      <th>task_container_id</th>\n",
       "      <th>user_answer</th>\n",
       "      <th>answered_correctly</th>\n",
       "      <th>prior_question_elapsed_time</th>\n",
       "      <th>prior_question_had_explanation</th>\n",
       "      <th>lecture_id</th>\n",
       "      <th>tag</th>\n",
       "      <th>part</th>\n",
       "      <th>type_of</th>\n",
       "    </tr>\n",
       "  </thead>\n",
       "  <tbody>\n",
       "    <tr>\n",
       "      <th>0</th>\n",
       "      <td>89</td>\n",
       "      <td>653762</td>\n",
       "      <td>2746</td>\n",
       "      <td>6808</td>\n",
       "      <td>1</td>\n",
       "      <td>14</td>\n",
       "      <td>-1</td>\n",
       "      <td>-1</td>\n",
       "      <td>NaN</td>\n",
       "      <td>False</td>\n",
       "      <td>6808</td>\n",
       "      <td>129</td>\n",
       "      <td>2</td>\n",
       "      <td>intention</td>\n",
       "    </tr>\n",
       "    <tr>\n",
       "      <th>1</th>\n",
       "      <td>117</td>\n",
       "      <td>10183847</td>\n",
       "      <td>5382</td>\n",
       "      <td>16736</td>\n",
       "      <td>1</td>\n",
       "      <td>21</td>\n",
       "      <td>-1</td>\n",
       "      <td>-1</td>\n",
       "      <td>NaN</td>\n",
       "      <td>False</td>\n",
       "      <td>16736</td>\n",
       "      <td>40</td>\n",
       "      <td>1</td>\n",
       "      <td>concept</td>\n",
       "    </tr>\n",
       "    <tr>\n",
       "      <th>2</th>\n",
       "      <td>212</td>\n",
       "      <td>1424348597</td>\n",
       "      <td>5382</td>\n",
       "      <td>30207</td>\n",
       "      <td>1</td>\n",
       "      <td>104</td>\n",
       "      <td>-1</td>\n",
       "      <td>-1</td>\n",
       "      <td>NaN</td>\n",
       "      <td>False</td>\n",
       "      <td>30207</td>\n",
       "      <td>43</td>\n",
       "      <td>5</td>\n",
       "      <td>concept</td>\n",
       "    </tr>\n",
       "    <tr>\n",
       "      <th>3</th>\n",
       "      <td>216</td>\n",
       "      <td>1425557777</td>\n",
       "      <td>5382</td>\n",
       "      <td>18545</td>\n",
       "      <td>1</td>\n",
       "      <td>121</td>\n",
       "      <td>-1</td>\n",
       "      <td>-1</td>\n",
       "      <td>NaN</td>\n",
       "      <td>False</td>\n",
       "      <td>18545</td>\n",
       "      <td>58</td>\n",
       "      <td>5</td>\n",
       "      <td>concept</td>\n",
       "    </tr>\n",
       "    <tr>\n",
       "      <th>4</th>\n",
       "      <td>295</td>\n",
       "      <td>405813029</td>\n",
       "      <td>8623</td>\n",
       "      <td>10540</td>\n",
       "      <td>1</td>\n",
       "      <td>59</td>\n",
       "      <td>-1</td>\n",
       "      <td>-1</td>\n",
       "      <td>NaN</td>\n",
       "      <td>False</td>\n",
       "      <td>10540</td>\n",
       "      <td>99</td>\n",
       "      <td>1</td>\n",
       "      <td>concept</td>\n",
       "    </tr>\n",
       "  </tbody>\n",
       "</table>\n",
       "</div>"
      ],
      "text/plain": [
       "   row_id   timestamp  user_id  content_id  content_type_id  \\\n",
       "0      89      653762     2746        6808                1   \n",
       "1     117    10183847     5382       16736                1   \n",
       "2     212  1424348597     5382       30207                1   \n",
       "3     216  1425557777     5382       18545                1   \n",
       "4     295   405813029     8623       10540                1   \n",
       "\n",
       "   task_container_id  user_answer  answered_correctly  \\\n",
       "0                 14           -1                  -1   \n",
       "1                 21           -1                  -1   \n",
       "2                104           -1                  -1   \n",
       "3                121           -1                  -1   \n",
       "4                 59           -1                  -1   \n",
       "\n",
       "   prior_question_elapsed_time prior_question_had_explanation  lecture_id  \\\n",
       "0                          NaN                          False        6808   \n",
       "1                          NaN                          False       16736   \n",
       "2                          NaN                          False       30207   \n",
       "3                          NaN                          False       18545   \n",
       "4                          NaN                          False       10540   \n",
       "\n",
       "   tag  part    type_of  \n",
       "0  129     2  intention  \n",
       "1   40     1    concept  \n",
       "2   43     5    concept  \n",
       "3   58     5    concept  \n",
       "4   99     1    concept  "
      ]
     },
     "execution_count": 51,
     "metadata": {},
     "output_type": "execute_result"
    }
   ],
   "source": [
    "train_lectures = train_lectures.merge(\n",
    "    lectures_df, how='left', left_on='content_id', right_on='lecture_id'\n",
    ")\n",
    "train_lectures.head()"
   ]
  },
  {
   "cell_type": "code",
   "execution_count": 52,
   "id": "6336d166",
   "metadata": {},
   "outputs": [],
   "source": [
    "train_lectures.drop(columns=['lecture_id'], inplace=True)"
   ]
  },
  {
   "cell_type": "code",
   "execution_count": null,
   "id": "53fd530c",
   "metadata": {},
   "outputs": [],
   "source": [
    "train_combined = pd.concat([train_questions, train_lectures])"
   ]
  },
  {
   "cell_type": "code",
   "execution_count": null,
   "id": "00834f01",
   "metadata": {},
   "outputs": [],
   "source": [
    "train_combined = train_combined.sort_values(by='row_id').reset_index(drop=True)"
   ]
  },
  {
   "cell_type": "markdown",
   "id": "b51f37f9",
   "metadata": {},
   "source": [
    "## 6.1 Взаимосвязь между целевой переменной и категориальными признаками\n",
    "\n",
    "Чтобы проследить взаимосвязь между целевой переменной и категориальными признаками (колонками с тегами), посчитаем среднее количество правильных ответов для каждой колонки и построим столбчатые диаграммы."
   ]
  },
  {
   "cell_type": "code",
   "execution_count": 56,
   "id": "87fefcf4",
   "metadata": {},
   "outputs": [
    {
     "name": "stdout",
     "output_type": "stream",
     "text": [
      "tags\n",
      "1                       0.607333\n",
      "1 162                   0.622810\n",
      "10 111 92               0.837507\n",
      "10 164 102              0.761476\n",
      "10 164 162 29           0.879346\n",
      "                          ...   \n",
      "98 97 21                0.720814\n",
      "98 97 35 117 122 162    0.718192\n",
      "98 97 35 146 122        0.716996\n",
      "98 97 46 135            0.684939\n",
      "98 97 77 135 162        0.888320\n",
      "Name: answered_correctly, Length: 1519, dtype: float64\n"
     ]
    }
   ],
   "source": [
    "mean_original_tags = train_questions.groupby('tags')['answered_correctly'].mean()\n",
    "print(mean_original_tags)"
   ]
  },
  {
   "cell_type": "code",
   "execution_count": 54,
   "id": "3c3e0d8a",
   "metadata": {},
   "outputs": [
    {
     "name": "stdout",
     "output_type": "stream",
     "text": [
      "popular_tags\n",
      "1        0.608267\n",
      "102      0.643194\n",
      "106      0.724462\n",
      "12       0.552019\n",
      "131      0.795584\n",
      "136      0.635882\n",
      "143      0.712980\n",
      "162      0.720992\n",
      "21       0.627655\n",
      "29       0.669363\n",
      "38       0.695630\n",
      "53       0.642843\n",
      "73       0.591910\n",
      "74       0.689093\n",
      "8        0.628112\n",
      "81       0.681004\n",
      "82       0.699496\n",
      "92       0.657483\n",
      "96       0.620850\n",
      "97       0.660286\n",
      "other    0.621905\n",
      "Name: answered_correctly, dtype: float64\n"
     ]
    }
   ],
   "source": [
    "mean_popular_single = train_questions.groupby('popular_tags')['answered_correctly'].mean()\n",
    "print(mean_popular_single)"
   ]
  },
  {
   "cell_type": "code",
   "execution_count": 55,
   "id": "5e8857bd",
   "metadata": {},
   "outputs": [
    {
     "name": "stdout",
     "output_type": "stream",
     "text": [
      "popular_tags_combination\n",
      "1            0.607333\n",
      "109          0.707877\n",
      "116          0.685136\n",
      "136 38 29    0.760690\n",
      "136 81 92    0.718833\n",
      "14           0.699131\n",
      "147          0.708984\n",
      "173          0.662791\n",
      "27           0.666135\n",
      "53           0.633360\n",
      "55           0.629942\n",
      "60           0.638514\n",
      "7            0.620366\n",
      "72           0.631176\n",
      "73           0.586561\n",
      "79           0.629598\n",
      "8            0.619862\n",
      "89           0.623020\n",
      "91           0.618635\n",
      "96           0.612057\n",
      "other        0.664494\n",
      "Name: answered_correctly, dtype: float64\n"
     ]
    }
   ],
   "source": [
    "mean_popular_comb = train_questions.groupby('popular_tags_combination')['answered_correctly'].mean()\n",
    "print(mean_popular_comb)"
   ]
  },
  {
   "cell_type": "code",
   "execution_count": 57,
   "id": "8ebca28f",
   "metadata": {},
   "outputs": [
    {
     "data": {
      "image/png": "[encoded data removed]",
      "text/plain": [
       "<Figure size 864x432 with 1 Axes>"
      ]
     },
     "metadata": {
      "needs_background": "light"
     },
     "output_type": "display_data"
    },
    {
     "data": {
      "image/png": "[encoded data removed]",
      "text/plain": [
       "<Figure size 864x432 with 1 Axes>"
      ]
     },
     "metadata": {
      "needs_background": "light"
     },
     "output_type": "display_data"
    },
    {
     "data": {
      "image/png": "[encoded data removed]",
      "text/plain": [
       "<Figure size 864x432 with 1 Axes>"
      ]
     },
     "metadata": {
      "needs_background": "light"
     },
     "output_type": "display_data"
    }
   ],
   "source": [
    "mean_original_tags.plot(kind='bar', figsize=(12, 6))\n",
    "plt.title('Зависимость правильных ответов от оригинальных тегов')\n",
    "plt.ylabel('Среднее количество правильных ответов')\n",
    "plt.show()\n",
    "\n",
    "mean_popular_single.plot(kind='bar', figsize=(12, 6))\n",
    "plt.title('Зависимость правильных ответов от одиночных популярных тегов')\n",
    "plt.ylabel('Среднее количество правильных ответов')\n",
    "plt.show()\n",
    "\n",
    "mean_popular_comb.plot(kind='bar', figsize=(12, 6))\n",
    "plt.title('Зависимость правильных ответов от популярных комбинаций тегов')\n",
    "plt.ylabel('Среднее количество правильных ответов')\n",
    "plt.show()"
   ]
  },
  {
   "cell_type": "markdown",
   "id": "30916ef4",
   "metadata": {},
   "source": [
    "**Можно сделать вывод, что между одиночными популярными тегами и целевой переменной зависимость чуть более выраженная, чем между популярными группами тегов и целевой переменной.** "
   ]
  },
  {
   "cell_type": "markdown",
   "id": "9045f65d",
   "metadata": {},
   "source": [
    "# Чтобы понять, как остальные (численные) признаки связаны между собой, построим корреляционную матрицу. "
   ]
  },
  {
   "cell_type": "code",
   "execution_count": 58,
   "id": "4f3ec04d",
   "metadata": {},
   "outputs": [],
   "source": [
    "#Превратим категориальный признак prior_question_had_explanation в числовой, принимающий значения 1 или 0\n",
    "train_questions['prior_question_had_explanation'] = train_questions['prior_question_had_explanation'].replace({False: 0, True: 1})"
   ]
  },
  {
   "cell_type": "code",
   "execution_count": 59,
   "id": "e7516f9d",
   "metadata": {},
   "outputs": [
    {
     "data": {
      "text/plain": [
       "0"
      ]
     },
     "execution_count": 59,
     "metadata": {},
     "output_type": "execute_result"
    }
   ],
   "source": [
    "train_questions['prior_question_had_explanation'] = train_questions['prior_question_had_explanation'].fillna(value=0)\n",
    "train_questions['prior_question_had_explanation'].isna().sum()"
   ]
  },
  {
   "cell_type": "code",
   "execution_count": 60,
   "id": "638a6d39",
   "metadata": {},
   "outputs": [],
   "source": [
    "#Удалим row_id, который просто нумерует строки \n",
    "train_questions.drop(columns=['row_id'], inplace=True)"
   ]
  },
  {
   "cell_type": "code",
   "execution_count": 61,
   "id": "d1a5c83d",
   "metadata": {},
   "outputs": [],
   "source": [
    "#И content_type_id, который в нашем датафрейме всегда равен 0, поскольку мы оставили только строчки с вопросами \n",
    "train_questions.drop(columns=['content_type_id'], inplace=True)"
   ]
  },
  {
   "cell_type": "code",
   "execution_count": 62,
   "id": "19d056db",
   "metadata": {},
   "outputs": [],
   "source": [
    "train_questions['prior_question_had_explanation'] = train_questions['prior_question_had_explanation'].astype('int8')"
   ]
  },
  {
   "cell_type": "code",
   "execution_count": 63,
   "id": "5c0e6f9e",
   "metadata": {},
   "outputs": [
    {
     "name": "stdout",
     "output_type": "stream",
     "text": [
      "<class 'pandas.core.frame.DataFrame'>\n",
      "Int64Index: 99271300 entries, 0 to 99271299\n",
      "Data columns (total 13 columns):\n",
      " #   Column                          Dtype  \n",
      "---  ------                          -----  \n",
      " 0   timestamp                       int64  \n",
      " 1   user_id                         int32  \n",
      " 2   content_id                      int16  \n",
      " 3   task_container_id               int16  \n",
      " 4   user_answer                     int8   \n",
      " 5   answered_correctly              int8   \n",
      " 6   prior_question_elapsed_time     float32\n",
      " 7   prior_question_had_explanation  int8   \n",
      " 8   correct_answer                  int8   \n",
      " 9   part                            int8   \n",
      " 10  tags                            object \n",
      " 11  popular_tags                    object \n",
      " 12  popular_tags_combination        object \n",
      "dtypes: float32(1), int16(2), int32(1), int64(1), int8(5), object(3)\n",
      "memory usage: 5.3+ GB\n"
     ]
    }
   ],
   "source": [
    "train_questions.info()"
   ]
  },
  {
   "cell_type": "code",
   "execution_count": 64,
   "id": "2228f30a",
   "metadata": {},
   "outputs": [
    {
     "data": {
      "image/png": "[encoded data removed]",
      "text/plain": [
       "<Figure size 720x576 with 2 Axes>"
      ]
     },
     "metadata": {
      "needs_background": "light"
     },
     "output_type": "display_data"
    }
   ],
   "source": [
    "numeric_cols = train_questions.select_dtypes(include=['int64', 'int32', 'int16', 'int8', 'float32'])\n",
    "\n",
    "# Корреляционная матрица для числовых признаков\n",
    "corr_matrix = numeric_cols.corr()\n",
    "\n",
    "# Визуализация\n",
    "plt.figure(figsize=(10, 8))\n",
    "sns.heatmap(corr_matrix, annot=True, cmap='coolwarm')\n",
    "plt.title('Корреляционная матрица числовых признаков')\n",
    "plt.show()"
   ]
  },
  {
   "cell_type": "markdown",
   "id": "3348c489",
   "metadata": {},
   "source": [
    "**Выводы по матрице корреляции**:\n",
    "\n",
    "1. answered_correctly:\n",
    "\n",
    "- Наблюдается очень слабая корреляция между переменной answered_correctly и prior_question_had_explanation (0.1), что означает, что пользователи, которые получали объяснения в предыдущем вопросе чуть чаще отвечали правильно на следующий.\n",
    "- Остальные переменные имеют незначительную корреляцию с переменной answered_correctly, что говорит о том, что они не влияют на вероятность ответить на вопрос правильно.\n",
    "\n",
    "2. timestamp:\n",
    "\n",
    "- Умеренно сильная корреляция с task_container_id (0.43), что говорит о том, что вопросы поступают в определенном порядке, поэтому времемя взаимодействия пользователя с системой и номер контейнера взаимосвязаны.\n",
    "- Очень слабая корреляция с prior_question_had_explanation (0.17), что, возможно, означает, что на чтение объяснений тратится дополнительное время.\n",
    "- Незначительная корреляция с другими переменными.\n",
    "\n",
    "3. content_id:\n",
    "\n",
    "- Умеренно сильная корреляция с part (0.54), что говорит о том, что, возможно, разные разделы контента разбиты на разные части, поэтому если вопрос из определенного раздела контента, то и вероятность, что номера частей совпадут достаточно высокая.  \n",
    "- Незначительная корреляция с другими переменными.\n",
    "\n",
    "4. task_container_id:\n",
    "\n",
    "- Как уже упоминалось, умеренно сильная корреляция с timestamp.\n",
    "- Незначительная корреляция с другими переменными.\n",
    "\n",
    "5. user_answer:\n",
    "\n",
    "- Умеренно сильная корреляция с correct_answer (0.53), что логично, так как обе переменные принимают одни и те же четыре значения (0, 1, 2, 3).  \n",
    "- Незначительная корреляция с другими переменными.\n",
    "\n",
    "6. prior_question_elapsed_time:\n",
    "\n",
    "- Слабая корреляция с part (0.24), что, видимо, объясняется тем, что время в миллисекундах, которое пользователь потратил на предыдущий набор вопросов, может быть больше или меньше в зависимости от части к которой относится вопрос, а части следуют в определенном порядке.   \n",
    "- Незначительная корреляция с другими переменными.\n",
    "\n",
    "7. prior_question_had_explanation:\n",
    "\n",
    "- Как уже упоминалось, очень слабая корреляция с timestamp, task_container_id и answered_correctly.\n",
    "- Незначительная корреляция с другими переменными.\n",
    "\n",
    "8. correct_answer:\n",
    "\n",
    "- Как уже упоминалось, умеренно сильная корреляция с user_answer.\n",
    "- Незначительная корреляция с другими переменными.\n",
    "\n",
    "9. part:\n",
    "\n",
    "- Как уже упоминалось, умеренно сильная корреляция с content_id и слабая корреляция с prior_question_elapsed_time.\n",
    "- Незначительная корреляция с другими переменными."
   ]
  },
  {
   "cell_type": "markdown",
   "id": "e7c6578c",
   "metadata": {},
   "source": [
    "### Проверим признаки на мультиколлинеарность, посчитав коэффициенты инфляции дисперсии."
   ]
  },
  {
   "cell_type": "code",
   "execution_count": 65,
   "id": "f664ece2",
   "metadata": {},
   "outputs": [
    {
     "data": {
      "text/plain": [
       "timestamp                          0\n",
       "user_id                            0\n",
       "content_id                         0\n",
       "task_container_id                  0\n",
       "user_answer                        0\n",
       "answered_correctly                 0\n",
       "prior_question_elapsed_time       65\n",
       "prior_question_had_explanation     0\n",
       "correct_answer                     0\n",
       "part                               0\n",
       "tags                               1\n",
       "popular_tags                       0\n",
       "popular_tags_combination           0\n",
       "dtype: int64"
      ]
     },
     "execution_count": 65,
     "metadata": {},
     "output_type": "execute_result"
    }
   ],
   "source": [
    "#Избавимся от оставшихся пропусков\n",
    "train_questions.isna().sum()"
   ]
  },
  {
   "cell_type": "code",
   "execution_count": 66,
   "id": "399c7fd8",
   "metadata": {},
   "outputs": [],
   "source": [
    "#Пропусков очень мало, заменим их на 0\n",
    "train_questions['prior_question_elapsed_time'] = train_questions['prior_question_elapsed_time'].fillna(value=0)"
   ]
  },
  {
   "cell_type": "code",
   "execution_count": 82,
   "id": "b2cea080",
   "metadata": {},
   "outputs": [
    {
     "data": {
      "text/plain": [
       "timestamp                         0\n",
       "user_id                           0\n",
       "content_id                        0\n",
       "task_container_id                 0\n",
       "user_answer                       0\n",
       "answered_correctly                0\n",
       "prior_question_elapsed_time       0\n",
       "prior_question_had_explanation    0\n",
       "correct_answer                    0\n",
       "part                              0\n",
       "tags                              1\n",
       "popular_tags                      0\n",
       "popular_tags_combination          0\n",
       "dtype: int64"
      ]
     },
     "execution_count": 82,
     "metadata": {},
     "output_type": "execute_result"
    }
   ],
   "source": [
    "train_questions.isna().sum()"
   ]
  },
  {
   "cell_type": "markdown",
   "id": "c847d381",
   "metadata": {},
   "source": [
    "Датафрейм слишком большой и при расчетах VIF умирает ядро, поэтому проверим мультиколлинеарность на случайной подвыборке данных."
   ]
  },
  {
   "cell_type": "code",
   "execution_count": 78,
   "id": "2cac095d",
   "metadata": {},
   "outputs": [],
   "source": [
    "#Выбираем случайные 10000000 строк для расчета VIF (чуть больше 10%)\n",
    "train_questions_sample = train_questions.sample(n=10000000, random_state=42)"
   ]
  },
  {
   "cell_type": "code",
   "execution_count": 79,
   "id": "a7d915dc",
   "metadata": {},
   "outputs": [],
   "source": [
    "import statsmodels.api as sm\n",
    "from statsmodels.stats.outliers_influence import variance_inflation_factor\n",
    "\n",
    "# Выбор только числовых признаков, исключая answered_correctly (целевую переменную)\n",
    "numeric_cols = train_questions_sample.select_dtypes(include=['int64', 'int32', 'int16', 'int8', 'float32']).drop(columns=['answered_correctly'])"
   ]
  },
  {
   "cell_type": "code",
   "execution_count": 80,
   "id": "ba558bba",
   "metadata": {},
   "outputs": [],
   "source": [
    "# Добавляем константу для вычисления VIF и рассчитываем VIF для каждого признака\n",
    "X = sm.add_constant(numeric_cols)\n",
    "\n",
    "vif_data = pd.DataFrame()\n",
    "vif_data[\"Признак\"] = X.columns"
   ]
  },
  {
   "cell_type": "code",
   "execution_count": 81,
   "id": "d24a16a1",
   "metadata": {},
   "outputs": [
    {
     "name": "stderr",
     "output_type": "stream",
     "text": [
      "/Users/katerinakuhne/opt/anaconda3/lib/python3.9/site-packages/statsmodels/regression/linear_model.py:1736: RuntimeWarning: divide by zero encountered in double_scalars\n",
      "  return 1 - self.ssr/self.centered_tss\n"
     ]
    },
    {
     "data": {
      "text/html": [
       "<div>\n",
       "<style scoped>\n",
       "    .dataframe tbody tr th:only-of-type {\n",
       "        vertical-align: middle;\n",
       "    }\n",
       "\n",
       "    .dataframe tbody tr th {\n",
       "        vertical-align: top;\n",
       "    }\n",
       "\n",
       "    .dataframe thead th {\n",
       "        text-align: right;\n",
       "    }\n",
       "</style>\n",
       "<table border=\"1\" class=\"dataframe\">\n",
       "  <thead>\n",
       "    <tr style=\"text-align: right;\">\n",
       "      <th></th>\n",
       "      <th>Признак</th>\n",
       "      <th>VIF</th>\n",
       "    </tr>\n",
       "  </thead>\n",
       "  <tbody>\n",
       "    <tr>\n",
       "      <th>0</th>\n",
       "      <td>const</td>\n",
       "      <td>0.000000</td>\n",
       "    </tr>\n",
       "    <tr>\n",
       "      <th>1</th>\n",
       "      <td>timestamp</td>\n",
       "      <td>1.249617</td>\n",
       "    </tr>\n",
       "    <tr>\n",
       "      <th>2</th>\n",
       "      <td>user_id</td>\n",
       "      <td>1.000007</td>\n",
       "    </tr>\n",
       "    <tr>\n",
       "      <th>3</th>\n",
       "      <td>content_id</td>\n",
       "      <td>1.430394</td>\n",
       "    </tr>\n",
       "    <tr>\n",
       "      <th>4</th>\n",
       "      <td>task_container_id</td>\n",
       "      <td>1.251473</td>\n",
       "    </tr>\n",
       "    <tr>\n",
       "      <th>5</th>\n",
       "      <td>user_answer</td>\n",
       "      <td>1.397252</td>\n",
       "    </tr>\n",
       "    <tr>\n",
       "      <th>6</th>\n",
       "      <td>prior_question_elapsed_time</td>\n",
       "      <td>1.063837</td>\n",
       "    </tr>\n",
       "    <tr>\n",
       "      <th>7</th>\n",
       "      <td>prior_question_had_explanation</td>\n",
       "      <td>1.046918</td>\n",
       "    </tr>\n",
       "    <tr>\n",
       "      <th>8</th>\n",
       "      <td>correct_answer</td>\n",
       "      <td>1.399687</td>\n",
       "    </tr>\n",
       "    <tr>\n",
       "      <th>9</th>\n",
       "      <td>part</td>\n",
       "      <td>1.482074</td>\n",
       "    </tr>\n",
       "  </tbody>\n",
       "</table>\n",
       "</div>"
      ],
      "text/plain": [
       "                          Признак       VIF\n",
       "0                           const  0.000000\n",
       "1                       timestamp  1.249617\n",
       "2                         user_id  1.000007\n",
       "3                      content_id  1.430394\n",
       "4               task_container_id  1.251473\n",
       "5                     user_answer  1.397252\n",
       "6     prior_question_elapsed_time  1.063837\n",
       "7  prior_question_had_explanation  1.046918\n",
       "8                  correct_answer  1.399687\n",
       "9                            part  1.482074"
      ]
     },
     "execution_count": 81,
     "metadata": {},
     "output_type": "execute_result"
    }
   ],
   "source": [
    "vif_data[\"VIF\"] = [variance_inflation_factor(X.values, i) for i in range(X.shape[1])]\n",
    "\n",
    "vif_data"
   ]
  },
  {
   "cell_type": "markdown",
   "id": "7b707847",
   "metadata": {},
   "source": [
    "**Вывод по значениям VIF**:\n",
    "VIF для всех признаков находится значительно ниже критического значения 5, что говорит о том, что мультиколлинеарность между признаками отсутствует или минимальна."
   ]
  },
  {
   "cell_type": "markdown",
   "id": "359ecdaa",
   "metadata": {},
   "source": [
    "**Общие выводы**:\n",
    "1. По результатам корреляционной матрицы и анализа VIF можно сделать вывод, что признаков с высокой мультиколлинеарностью нет, а переменные имеют слабую корреляцию между собой.\n",
    "2. Признаки, такие как `prior_question_had_explanation` и `popular_tags`, могут оказаться важными для построения модели, так как они демонстрируют умеренные взаимосвязи с целевой переменной `answered_correctly`. \n",
    "3. Возможно, было бы полезно превратить признаки `popular_tags` и `popular_tags_combination` в числовые, чтобы было удобнее исследовать их взаимосвязи с целевой переменной и, в результате, выбрать один из них. \n",
    "4. Возможно, необходимо дополнительное исследование данных о лекциях, с целью создать новый признак/признаки и понять влияют ли они на целевую переменную. Например, признак, демонстрирующий смотрел ли пользователь лекцию по релевантной теме перед ответами на вопросы. Тем не менее, из-за того что лекций мало относительно вопросов и их смотрят только некоторые пользователи, польза такого признака может оказаться невелика. "
   ]
  },
  {
   "cell_type": "code",
   "execution_count": null,
   "id": "185cc269",
   "metadata": {},
   "outputs": [],
   "source": []
  }
 ],
 "metadata": {
  "kernelspec": {
   "display_name": "Python 3 (ipykernel)",
   "language": "python",
   "name": "python3"
  },
  "language_info": {
   "codemirror_mode": {
    "name": "ipython",
    "version": 3
   },
   "file_extension": ".py",
   "mimetype": "text/x-python",
   "name": "python",
   "nbconvert_exporter": "python",
   "pygments_lexer": "ipython3",
   "version": "3.9.12"
  }
 },
 "nbformat": 4,
 "nbformat_minor": 5
}
